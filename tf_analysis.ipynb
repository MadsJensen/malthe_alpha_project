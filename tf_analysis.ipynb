{
 "cells": [
  {
   "cell_type": "code",
   "execution_count": 1,
   "metadata": {
    "collapsed": true
   },
   "outputs": [],
   "source": [
    "from my_settings import *"
   ]
  },
  {
   "cell_type": "code",
   "execution_count": 2,
   "metadata": {
    "collapsed": true
   },
   "outputs": [],
   "source": [
    "import mne\n",
    "import matplotlib.pyplot as plt\n",
    "import numpy as np\n",
    "import seaborn as sns\n",
    "import os\n",
    "    \n",
    "%matplotlib qt\n",
    "# change \\\"qt\\\" to \\\"inline\\\" for the figures to be place in the notebook\"\n"
   ]
  },
  {
   "cell_type": "code",
   "execution_count": 3,
   "metadata": {
    "collapsed": true
   },
   "outputs": [],
   "source": [
    "from tf_analyses_functions import calc_spatial_resolution, calc_wavelet_duration"
   ]
  },
  {
   "cell_type": "markdown",
   "metadata": {},
   "source": [
    "# Calculate wavelet durations"
   ]
  },
  {
   "cell_type": "code",
   "execution_count": 10,
   "metadata": {
    "collapsed": true
   },
   "outputs": [],
   "source": [
    "freqs = np.arange(6,90, 2)\n",
    "n_cycles_2 = freqs/2.\n",
    "n_cycles_3 = freqs/3.\n",
    "n_cycles_33 = freqs/3.3\n",
    "n_cycles_4 = freqs/4."
   ]
  },
  {
   "cell_type": "code",
   "execution_count": 11,
   "metadata": {
    "collapsed": false
   },
   "outputs": [],
   "source": [
    "wd_2 = calc_wavelet_duration(freqs=freqs, n_cycles=n_cycles_2)\n",
    "wd_3 = calc_wavelet_duration(freqs=freqs, n_cycles=n_cycles_3)\n",
    "wd_33 = calc_wavelet_duration(freqs=freqs, n_cycles=n_cycles_33)\n",
    "wd_4 = calc_wavelet_duration(freqs=freqs, n_cycles=n_cycles_4)"
   ]
  },
  {
   "cell_type": "code",
   "execution_count": 12,
   "metadata": {
    "collapsed": true
   },
   "outputs": [],
   "source": [
    "plt.figure()\n",
    "plt.plot(freqs, wd_2, label=\"cycles = freqs / 2\")\n",
    "plt.plot(freqs, wd_3, label=\"cycles = freqs / 3\")\n",
    "plt.plot(freqs, wd_33, label=\"cycles = freqs / 3.3\")\n",
    "plt.plot(freqs, wd_4, label=\"cycles = freqs / 4\")\n",
    "plt.legend()\n",
    "plt.title(\"Wavelet duration\")\n",
    "plt.show()"
   ]
  },
  {
   "cell_type": "markdown",
   "metadata": {},
   "source": [
    "# Calculate spatial resolution"
   ]
  },
  {
   "cell_type": "code",
   "execution_count": 7,
   "metadata": {
    "collapsed": false
   },
   "outputs": [],
   "source": [
    "sr_2 = calc_spatial_resolution(freqs=freqs, n_cycles=n_cycles_2)\n",
    "sr_3 = calc_spatial_resolution(freqs=freqs, n_cycles=n_cycles_3)\n",
    "sr_33 = calc_spatial_resolution(freqs=freqs, n_cycles=n_cycles_33)\n",
    "sr_4 = calc_spatial_resolution(freqs=freqs, n_cycles=n_cycles_4)"
   ]
  },
  {
   "cell_type": "code",
   "execution_count": 8,
   "metadata": {
    "collapsed": false
   },
   "outputs": [
    {
     "data": {
      "text/plain": [
       "array([6, 6, 6, 6, 6, 6, 6, 6, 6, 6, 6, 6, 6, 6, 6, 6, 6, 6, 6, 6, 6, 6, 6,\n",
       "       6, 6, 6, 6, 6, 6, 6, 6, 6, 6, 6, 6, 6, 6, 6, 6, 6, 6, 6])"
      ]
     },
     "execution_count": 8,
     "metadata": {},
     "output_type": "execute_result"
    }
   ],
   "source": [
    "sr_33"
   ]
  },
  {
   "cell_type": "code",
   "execution_count": 9,
   "metadata": {
    "collapsed": false
   },
   "outputs": [],
   "source": [
    "plt.figure()\n",
    "plt.plot(freqs, sr_2, label=\"cycles = freqs / 2\")\n",
    "plt.plot(freqs, sr_3, label=\"cycles = freqs / 3\")\n",
    "plt.plot(freqs, sr_33, label=\"cycles = freqs / 3.3\")\n",
    "plt.plot(freqs, sr_4, label=\"cycles = freqs / 4\")\n",
    "plt.legend()\n",
    "plt.title(\"Spatial resolution\")\n",
    "plt.show()"
   ]
  },
  {
   "cell_type": "code",
   "execution_count": null,
   "metadata": {
    "collapsed": true
   },
   "outputs": [],
   "source": []
  },
  {
   "cell_type": "code",
   "execution_count": 4,
   "metadata": {
    "collapsed": false
   },
   "outputs": [
    {
     "name": "stdout",
     "output_type": "stream",
     "text": [
      "/home/mje/Projects/malthe_alpha_project/data/tf_data\n"
     ]
    }
   ],
   "source": [
    "cd data/tf_data/"
   ]
  },
  {
   "cell_type": "code",
   "execution_count": null,
   "metadata": {
    "collapsed": true
   },
   "outputs": [],
   "source": []
  },
  {
   "cell_type": "code",
   "execution_count": 5,
   "metadata": {
    "collapsed": false
   },
   "outputs": [],
   "source": [
    "itc_ctl_left = []\n",
    "\n",
    "for subject in subjects[-3:]:\n",
    "    data = np.load(\"itc_%s_8-12_Brodmann.17-lh_ctl_left_dSPM.npy\" % subject)\n",
    "    itc_ctl_left.append(data.mean(axis=0).mean(axis=0))"
   ]
  },
  {
   "cell_type": "code",
   "execution_count": 6,
   "metadata": {
    "collapsed": false
   },
   "outputs": [],
   "source": [
    "itc_ctl_left = np.asarray(itc_ctl_left)"
   ]
  },
  {
   "cell_type": "code",
   "execution_count": 7,
   "metadata": {
    "collapsed": false
   },
   "outputs": [
    {
     "data": {
      "text/plain": [
       "(3, 1251)"
      ]
     },
     "execution_count": 7,
     "metadata": {},
     "output_type": "execute_result"
    }
   ],
   "source": [
    "itc_ctl_left.shape"
   ]
  },
  {
   "cell_type": "code",
   "execution_count": 8,
   "metadata": {
    "collapsed": true
   },
   "outputs": [],
   "source": [
    "np.save(\"Foo.npy\", itc_ctl_left)"
   ]
  },
  {
   "cell_type": "code",
   "execution_count": null,
   "metadata": {
    "collapsed": true
   },
   "outputs": [],
   "source": []
  },
  {
   "cell_type": "code",
   "execution_count": null,
   "metadata": {
    "collapsed": true
   },
   "outputs": [],
   "source": []
  },
  {
   "cell_type": "code",
   "execution_count": null,
   "metadata": {
    "collapsed": true
   },
   "outputs": [],
   "source": []
  },
  {
   "cell_type": "code",
   "execution_count": null,
   "metadata": {
    "collapsed": true
   },
   "outputs": [],
   "source": []
  }
 ],
 "metadata": {
  "kernelspec": {
   "display_name": "Python 2",
   "language": "python",
   "name": "python2"
  },
  "language_info": {
   "codemirror_mode": {
    "name": "ipython",
    "version": 2
   },
   "file_extension": ".py",
   "mimetype": "text/x-python",
   "name": "python",
   "nbconvert_exporter": "python",
   "pygments_lexer": "ipython2",
   "version": "2.7.11"
  }
 },
 "nbformat": 4,
 "nbformat_minor": 0
}
